{
 "cells": [
  {
   "cell_type": "code",
   "execution_count": 27,
   "metadata": {
    "scrolled": true
   },
   "outputs": [
    {
     "name": "stdout",
     "output_type": "stream",
     "text": [
      "['i', 'like', 'coffee']\n"
     ]
    }
   ],
   "source": [
    "s = 'i like coffee'\n",
    "\n",
    "w = s.split()\n",
    "\n",
    "print(w)"
   ]
  },
  {
   "cell_type": "code",
   "execution_count": 28,
   "metadata": {},
   "outputs": [
    {
     "data": {
      "text/plain": [
       "'coffee'"
      ]
     },
     "execution_count": 28,
     "metadata": {},
     "output_type": "execute_result"
    }
   ],
   "source": [
    "w[-1]"
   ]
  },
  {
   "cell_type": "code",
   "execution_count": 29,
   "metadata": {},
   "outputs": [],
   "source": [
    " word_dict = {w: i for i, w in enumerate(w)}"
   ]
  },
  {
   "cell_type": "code",
   "execution_count": 30,
   "metadata": {
    "scrolled": true
   },
   "outputs": [
    {
     "data": {
      "text/plain": [
       "{'i': 0, 'like': 1, 'coffee': 2}"
      ]
     },
     "execution_count": 30,
     "metadata": {},
     "output_type": "execute_result"
    }
   ],
   "source": [
    "word_dict"
   ]
  },
  {
   "cell_type": "code",
   "execution_count": 36,
   "metadata": {},
   "outputs": [
    {
     "data": {
      "text/plain": [
       "3"
      ]
     },
     "execution_count": 36,
     "metadata": {},
     "output_type": "execute_result"
    }
   ],
   "source": [
    "len(word_dict)"
   ]
  },
  {
   "cell_type": "code",
   "execution_count": 31,
   "metadata": {},
   "outputs": [],
   "source": [
    "i = [word_dict[n] for n in w[:-1]]"
   ]
  },
  {
   "cell_type": "code",
   "execution_count": 32,
   "metadata": {},
   "outputs": [
    {
     "data": {
      "text/plain": [
       "[0, 1]"
      ]
     },
     "execution_count": 32,
     "metadata": {},
     "output_type": "execute_result"
    }
   ],
   "source": [
    "i"
   ]
  },
  {
   "cell_type": "code",
   "execution_count": 33,
   "metadata": {},
   "outputs": [
    {
     "name": "stdout",
     "output_type": "stream",
     "text": [
      "tensor([1., 1., 1., 1., 1., 1., 1., 1., 1., 1., 1., 1., 1., 1., 1., 1., 1., 1.,\n",
      "        1., 1., 1., 1., 1., 1., 1., 1., 1., 1., 1., 1., 1., 1., 1., 1., 1., 1.,\n",
      "        1., 1., 1., 1., 1., 1., 1., 1., 1., 1., 1., 1., 1., 1., 1., 1., 1., 1.,\n",
      "        1., 1., 1., 1., 1., 1., 1., 1., 1., 1., 1., 1., 1., 1., 1., 1., 1., 1.,\n",
      "        1., 1., 1., 1., 1., 1., 1., 1., 1., 1., 1., 1., 1., 1., 1., 1., 1., 1.,\n",
      "        1., 1., 1., 1., 1., 1., 1., 1., 1., 1., 1., 1., 1., 1., 1., 1., 1., 1.,\n",
      "        1., 1., 1., 1., 1., 1., 1., 1., 1., 1., 1., 1., 1., 1., 1., 1., 1., 1.,\n",
      "        1., 1.])\n"
     ]
    },
    {
     "data": {
      "text/plain": [
       "128"
      ]
     },
     "execution_count": 33,
     "metadata": {},
     "output_type": "execute_result"
    }
   ],
   "source": [
    "import torch \n",
    "\n",
    "print(torch.ones(128))\n",
    "d = torch.ones(128)\n",
    "len(d)"
   ]
  },
  {
   "cell_type": "code",
   "execution_count": 34,
   "metadata": {},
   "outputs": [
    {
     "data": {
      "text/plain": [
       "tensor([[[1, 1, 1],\n",
       "         [2, 2, 3],\n",
       "         [3, 5, 7]]])"
      ]
     },
     "execution_count": 34,
     "metadata": {},
     "output_type": "execute_result"
    }
   ],
   "source": [
    "X = torch.tensor([[[1,1,1],[2,2,3],[3,5,7]]])\n",
    "X"
   ]
  },
  {
   "cell_type": "code",
   "execution_count": 35,
   "metadata": {},
   "outputs": [
    {
     "data": {
      "text/plain": [
       "tensor([1, 1, 1, 2, 2, 3, 3, 5, 7])"
      ]
     },
     "execution_count": 35,
     "metadata": {},
     "output_type": "execute_result"
    }
   ],
   "source": [
    "X = X.view(-1)\n",
    "X"
   ]
  },
  {
   "cell_type": "code",
   "execution_count": null,
   "metadata": {},
   "outputs": [],
   "source": [
    "torch.LongTensor()"
   ]
  },
  {
   "cell_type": "code",
   "execution_count": 39,
   "metadata": {},
   "outputs": [],
   "source": [
    "sentences = ['i like cat', 'i love coffee', 'i hate sushi']\n",
    "word_list = ' '.join(sentences).split()\n",
    "# ,구분자를 추가하여 한칸 띄어서 각 단어를 문장에서 분리\n",
    "\n",
    "word_list = list(set(word_list))\n",
    "# 중복 단어 제거\n",
    "\n",
    "word_dict = {w: i for i, w in enumerate(word_list)}\n",
    "# key : value 형태로 위에서 자른 단어를 넣어줌\n",
    "\n",
    "number_dict = {i: w for i, w in enumerate(word_list)}\n",
    "\n",
    "n_class = len(word_dict)"
   ]
  },
  {
   "cell_type": "code",
   "execution_count": 41,
   "metadata": {},
   "outputs": [
    {
     "name": "stdout",
     "output_type": "stream",
     "text": [
      "['like', 'cat', 'hate', 'coffee', 'sushi', 'love', 'i']\n",
      "{'like': 0, 'cat': 1, 'hate': 2, 'coffee': 3, 'sushi': 4, 'love': 5, 'i': 6}\n",
      "7\n"
     ]
    }
   ],
   "source": [
    "print(word_list)\n",
    "print(word_dict)\n",
    "print(n_class)"
   ]
  },
  {
   "cell_type": "code",
   "execution_count": 42,
   "metadata": {},
   "outputs": [],
   "source": [
    "input_batch = []\n",
    "target_batch = []\n",
    "\n",
    "for sen in sentences:\n",
    "    word = sen.split()\n",
    "    # 문장을 단어단위로 쪼깸\n",
    "    input = [word_dict[n] for n in word[:-1]]\n",
    "    # word의 마지막 단어를 제외한 단어들을 dict로 넣어주고 해당 단어의 인덱스를 input변수에 넣어줌\n",
    "\n",
    "    target = word_dict[word[-1]]\n",
    "    # 마지막 단어에 대한 인덱스 값을 target변수에 저장\n",
    "\n",
    "    input_batch.append(input)\n",
    "    target_batch.append(target)"
   ]
  },
  {
   "cell_type": "code",
   "execution_count": 47,
   "metadata": {},
   "outputs": [
    {
     "data": {
      "text/plain": [
       "[[6, 0], [6, 5], [6, 2]]"
      ]
     },
     "execution_count": 47,
     "metadata": {},
     "output_type": "execute_result"
    }
   ],
   "source": [
    "input_batch"
   ]
  },
  {
   "cell_type": "code",
   "execution_count": 44,
   "metadata": {
    "scrolled": true
   },
   "outputs": [
    {
     "data": {
      "text/plain": [
       "[1, 3, 4]"
      ]
     },
     "execution_count": 44,
     "metadata": {},
     "output_type": "execute_result"
    }
   ],
   "source": [
    "target_batch"
   ]
  },
  {
   "cell_type": "code",
   "execution_count": 49,
   "metadata": {},
   "outputs": [
    {
     "data": {
      "text/plain": [
       "{'like': 0, 'cat': 1, 'hate': 2, 'coffee': 3, 'sushi': 4, 'love': 5, 'i': 6}"
      ]
     },
     "execution_count": 49,
     "metadata": {},
     "output_type": "execute_result"
    }
   ],
   "source": [
    "word_dict"
   ]
  },
  {
   "cell_type": "code",
   "execution_count": 48,
   "metadata": {},
   "outputs": [
    {
     "name": "stdout",
     "output_type": "stream",
     "text": [
      "[6, 0]\n",
      "[6, 5]\n",
      "[6, 2]\n"
     ]
    }
   ],
   "source": [
    "for sen in sentences:\n",
    "    word = sen.split()\n",
    "    # 문장을 단어단위로 쪼깸\n",
    "    input = [word_dict[n] for n in word[:-1]]\n",
    "    print(input)"
   ]
  },
  {
   "cell_type": "code",
   "execution_count": 7,
   "metadata": {},
   "outputs": [],
   "source": [
    "sentences = ['i like cat', 'i love coffee', 'i hate sushi']\n",
    "word_list = ' '.join(sentences).split()\n",
    "word_list = list(set(word_list))\n",
    "word_dict = {w:i for i, w in enumerate(word_list)}\n",
    "n_class = len(word_dict)\n"
   ]
  },
  {
   "cell_type": "code",
   "execution_count": 10,
   "metadata": {},
   "outputs": [
    {
     "data": {
      "text/plain": [
       "{'sushi': 0, 'i': 1, 'coffee': 2, 'cat': 3, 'hate': 4, 'love': 5, 'like': 6}"
      ]
     },
     "execution_count": 10,
     "metadata": {},
     "output_type": "execute_result"
    }
   ],
   "source": [
    "word_dict"
   ]
  },
  {
   "cell_type": "code",
   "execution_count": 8,
   "metadata": {},
   "outputs": [],
   "source": [
    "input_batch = []\n",
    "target_batch = []\n",
    "\n",
    "for sen in sentences:\n",
    "    word = sen.split()\n",
    "    # 문장을 단어단위로 쪼깸\n",
    "    input = [word_dict[n] for n in word[:-1]]\n",
    "    # word의 마지막 단어를 제외한 단어들을 dict로 넣어주고 해당 단어의 인덱스를 input변수에 넣어줌\n",
    "\n",
    "    target = word_dict[word[-1]]\n",
    "    # 마지막 단어에 대한 인덱스 값을 target변수에 저장\n",
    "\n",
    "    input_batch.append(input)\n",
    "    target_batch.append(target)"
   ]
  },
  {
   "cell_type": "code",
   "execution_count": 9,
   "metadata": {
    "scrolled": false
   },
   "outputs": [
    {
     "data": {
      "text/plain": [
       "[[1, 6], [1, 5], [1, 4]]"
      ]
     },
     "execution_count": 9,
     "metadata": {},
     "output_type": "execute_result"
    }
   ],
   "source": [
    "input_batch"
   ]
  },
  {
   "cell_type": "code",
   "execution_count": 11,
   "metadata": {},
   "outputs": [
    {
     "data": {
      "text/plain": [
       "[3, 2, 0]"
      ]
     },
     "execution_count": 11,
     "metadata": {},
     "output_type": "execute_result"
    }
   ],
   "source": [
    "target_batch"
   ]
  },
  {
   "cell_type": "code",
   "execution_count": 18,
   "metadata": {
    "scrolled": false
   },
   "outputs": [
    {
     "name": "stdout",
     "output_type": "stream",
     "text": [
      "tensor([[1, 6],\n",
      "        [1, 5],\n",
      "        [1, 4]])\n",
      "tensor([[[-0.6542,  0.6534],\n",
      "         [-0.3490, -0.6074]],\n",
      "\n",
      "        [[-0.6542,  0.6534],\n",
      "         [ 2.3379,  0.0756]],\n",
      "\n",
      "        [[-0.6542,  0.6534],\n",
      "         [-1.5639,  0.2229]]], grad_fn=<EmbeddingBackward>)\n"
     ]
    }
   ],
   "source": [
    "import torch\n",
    "import torch.nn as nn\n",
    "c = nn.Embedding(7,2)\n",
    "\n",
    "input_batch = torch.LongTensor(input_batch)\n",
    "print(input_batch)\n",
    "c = c(input_batch)\n",
    "print(c)\n",
    "# 인덱스를 정해진 차원으로 설명할 수 있도록 표현 "
   ]
  },
  {
   "cell_type": "code",
   "execution_count": 21,
   "metadata": {},
   "outputs": [
    {
     "data": {
      "text/plain": [
       "torch.Size([3, 2, 2])"
      ]
     },
     "execution_count": 21,
     "metadata": {},
     "output_type": "execute_result"
    }
   ],
   "source": [
    "c.shape"
   ]
  },
  {
   "cell_type": "code",
   "execution_count": 25,
   "metadata": {},
   "outputs": [
    {
     "name": "stdout",
     "output_type": "stream",
     "text": [
      "torch.Size([3, 4])\n"
     ]
    }
   ],
   "source": [
    "x = c.view(-1, 4)\n",
    "print(x.shape)\n",
    "# 각 단어를 표시하는 벡터로만 구성되어 있기 때문에 이것을 한문장을 표현할 수 있는 벡터로 표현하기 위해 view 사용 "
   ]
  },
  {
   "cell_type": "code",
   "execution_count": 28,
   "metadata": {},
   "outputs": [],
   "source": [
    "h = nn.Linear(2*2, 5, bias = False)\n",
    "d = nn.Parameter(torch.ones(5))\n"
   ]
  },
  {
   "cell_type": "code",
   "execution_count": 30,
   "metadata": {},
   "outputs": [
    {
     "data": {
      "text/plain": [
       "Parameter containing:\n",
       "tensor([1., 1., 1., 1., 1.], requires_grad=True)"
      ]
     },
     "execution_count": 30,
     "metadata": {},
     "output_type": "execute_result"
    }
   ],
   "source": [
    "d"
   ]
  },
  {
   "cell_type": "code",
   "execution_count": 32,
   "metadata": {},
   "outputs": [
    {
     "data": {
      "text/plain": [
       "tensor([[ 0.7974,  0.8805,  0.6430,  0.8857,  0.9356],\n",
       "        [ 0.5707,  0.9507,  0.9367, -0.0545,  0.9792],\n",
       "        [ 0.7735,  0.6917,  0.6602,  0.9282,  0.7221]], grad_fn=<TanhBackward>)"
      ]
     },
     "execution_count": 32,
     "metadata": {},
     "output_type": "execute_result"
    }
   ],
   "source": [
    "tanh = torch.tanh(h(x)+d)\n",
    "tanh"
   ]
  },
  {
   "cell_type": "code",
   "execution_count": 33,
   "metadata": {},
   "outputs": [],
   "source": [
    "U = nn.Linear(5, 7, bias = False)\n",
    "\n",
    "W = nn.Linear(4, 7, bias = False)\n",
    "\n",
    "b = nn.Parameter(torch.ones(n_class))"
   ]
  },
  {
   "cell_type": "code",
   "execution_count": 35,
   "metadata": {},
   "outputs": [
    {
     "name": "stdout",
     "output_type": "stream",
     "text": [
      "tensor([[ 0.7374,  0.2227,  1.1237,  0.8631,  1.4766,  2.1624,  1.7502],\n",
      "        [-0.1803,  1.4261,  0.7368,  1.1235,  1.2237,  0.8306,  0.6671],\n",
      "        [ 1.1544, -0.1866,  0.9288,  1.3369,  1.3639,  2.2575,  1.5747]],\n",
      "       grad_fn=<AddBackward0>)\n"
     ]
    }
   ],
   "source": [
    "out = b + W(x) + U(tanh)\n",
    "print(out)"
   ]
  },
  {
   "cell_type": "code",
   "execution_count": 36,
   "metadata": {},
   "outputs": [
    {
     "data": {
      "text/plain": [
       "{'sushi': 0, 'i': 1, 'coffee': 2, 'cat': 3, 'hate': 4, 'love': 5, 'like': 6}"
      ]
     },
     "execution_count": 36,
     "metadata": {},
     "output_type": "execute_result"
    }
   ],
   "source": [
    "word_dict"
   ]
  },
  {
   "cell_type": "code",
   "execution_count": 38,
   "metadata": {},
   "outputs": [
    {
     "data": {
      "text/plain": [
       "[3, 2, 0]"
      ]
     },
     "execution_count": 38,
     "metadata": {},
     "output_type": "execute_result"
    }
   ],
   "source": [
    "target_batch"
   ]
  },
  {
   "cell_type": "code",
   "execution_count": null,
   "metadata": {},
   "outputs": [],
   "source": []
  }
 ],
 "metadata": {
  "kernelspec": {
   "display_name": "Python 3",
   "language": "python",
   "name": "python3"
  },
  "language_info": {
   "codemirror_mode": {
    "name": "ipython",
    "version": 3
   },
   "file_extension": ".py",
   "mimetype": "text/x-python",
   "name": "python",
   "nbconvert_exporter": "python",
   "pygments_lexer": "ipython3",
   "version": "3.7.4"
  }
 },
 "nbformat": 4,
 "nbformat_minor": 2
}
