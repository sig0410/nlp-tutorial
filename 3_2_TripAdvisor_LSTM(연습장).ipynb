{
 "cells": [
  {
   "cell_type": "code",
   "execution_count": 24,
   "metadata": {},
   "outputs": [],
   "source": [
    "import numpy as np\n",
    "import torch \n",
    "import torch.nn as nn\n",
    "import torch.optim as optim\n",
    "import pandas as pd \n",
    "import re \n",
    "from nltk.corpus import stopwords"
   ]
  },
  {
   "cell_type": "code",
   "execution_count": 37,
   "metadata": {},
   "outputs": [],
   "source": [
    "df = pd.read_csv('/Users/Moon/nlp-tutorial/tripadvisor_hotel_reviews.csv')\n",
    "df = df.sample(n = 2000)"
   ]
  },
  {
   "cell_type": "code",
   "execution_count": 38,
   "metadata": {},
   "outputs": [
    {
     "name": "stdout",
     "output_type": "stream",
     "text": [
      "Review    0\n",
      "Rating    0\n",
      "dtype: int64\n"
     ]
    }
   ],
   "source": [
    "print(df.isnull().sum())"
   ]
  },
  {
   "cell_type": "code",
   "execution_count": 39,
   "metadata": {},
   "outputs": [],
   "source": [
    "def replace_col(row):\n",
    "    if row['Rating'] >= 4:\n",
    "        return 1\n",
    "    else:\n",
    "        return 0\n",
    "    "
   ]
  },
  {
   "cell_type": "code",
   "execution_count": 40,
   "metadata": {},
   "outputs": [],
   "source": [
    "def preprocessing(data):\n",
    "    only = []\n",
    "    for i in data:\n",
    "        only.append(re.sub('[^a-zA-Z]', ' ', i))\n",
    "    \n",
    "    stops = set(stopwords.words('english'))\n",
    "    inputs = [word for word in only if not word in stops]\n",
    "    \n",
    "    return inputs"
   ]
  },
  {
   "cell_type": "code",
   "execution_count": 119,
   "metadata": {},
   "outputs": [],
   "source": [
    "data = preprocessing(df['Review'])"
   ]
  },
  {
   "cell_type": "code",
   "execution_count": 120,
   "metadata": {},
   "outputs": [],
   "source": [
    "b = []\n",
    "for i in data:\n",
    "    b.append(len(i))"
   ]
  },
  {
   "cell_type": "code",
   "execution_count": 114,
   "metadata": {
    "scrolled": false
   },
   "outputs": [
    {
     "data": {
      "text/plain": [
       "<matplotlib.axes._subplots.AxesSubplot at 0x7ffe0082ea50>"
      ]
     },
     "execution_count": 114,
     "metadata": {},
     "output_type": "execute_result"
    },
    {
     "data": {
      "image/png": "[encoded data removed]",
      "text/plain": [
       "<Figure size 432x288 with 1 Axes>"
      ]
     },
     "metadata": {
      "needs_background": "light"
     },
     "output_type": "display_data"
    }
   ],
   "source": [
    "import seaborn as sns\n",
    "sns.distplot(b)"
   ]
  },
  {
   "cell_type": "code",
   "execution_count": 44,
   "metadata": {
    "scrolled": false
   },
   "outputs": [
    {
     "data": {
      "text/plain": [
       "count    2000.000000\n",
       "mean      752.282000\n",
       "std       709.336299\n",
       "min        44.000000\n",
       "25%       355.000000\n",
       "50%       553.000000\n",
       "75%       882.500000\n",
       "max      8953.000000\n",
       "dtype: float64"
      ]
     },
     "execution_count": 44,
     "metadata": {},
     "output_type": "execute_result"
    }
   ],
   "source": [
    "b = pd.Series(b)\n",
    "b.describe()"
   ]
  },
  {
   "cell_type": "code",
   "execution_count": 121,
   "metadata": {},
   "outputs": [],
   "source": [
    "c = pd.Series(b).describe()"
   ]
  },
  {
   "cell_type": "code",
   "execution_count": 123,
   "metadata": {},
   "outputs": [],
   "source": [
    "g = c['75%']"
   ]
  },
  {
   "cell_type": "code",
   "execution_count": 125,
   "metadata": {},
   "outputs": [
    {
     "data": {
      "text/plain": [
       "882.5"
      ]
     },
     "execution_count": 125,
     "metadata": {},
     "output_type": "execute_result"
    }
   ],
   "source": [
    "g"
   ]
  },
  {
   "cell_type": "code",
   "execution_count": 126,
   "metadata": {},
   "outputs": [],
   "source": [
    "X = []\n",
    "for sen in data:\n",
    "        word = sen.split()\n",
    "        \n",
    "        input_x = [word_dict[n] for n in word]\n",
    "        X.append(input_x[:int(g)])"
   ]
  },
  {
   "cell_type": "code",
   "execution_count": 139,
   "metadata": {},
   "outputs": [
    {
     "data": {
      "text/plain": [
       "591"
      ]
     },
     "execution_count": 139,
     "metadata": {},
     "output_type": "execute_result"
    }
   ],
   "source": [
    "len(data[0])"
   ]
  },
  {
   "cell_type": "code",
   "execution_count": 140,
   "metadata": {},
   "outputs": [
    {
     "data": {
      "text/plain": [
       "591"
      ]
     },
     "execution_count": 140,
     "metadata": {},
     "output_type": "execute_result"
    }
   ],
   "source": [
    "len(x[0])"
   ]
  },
  {
   "cell_type": "code",
   "execution_count": 46,
   "metadata": {},
   "outputs": [],
   "source": [
    "x = [i for i in data]\n",
    "word_list = ' '.join(x).split()\n",
    "word_list = list(set(word_list))\n",
    "\n",
    "word_dict = {w : i for i, w in enumerate(word_list)}\n",
    "vocab_size = len(word_dict)\n"
   ]
  },
  {
   "cell_type": "code",
   "execution_count": 48,
   "metadata": {},
   "outputs": [],
   "source": [
    "max_len = 865\n",
    "\n",
    "def batch():\n",
    "    X = []\n",
    "    y = []\n",
    "    \n",
    "    for sen in data:\n",
    "        word = sen.split()\n",
    "        \n",
    "        input_x = [word_dict[n] for n in word]\n",
    "        X.append(input_x[:max_len])\n",
    "        \n",
    "    for item in X:\n",
    "        while len(item) < max_len:\n",
    "            item.append(0)\n",
    "            \n",
    "    df['Rating'] = df.apply(replace_col, axis=1)\n",
    "    y = [i for i in df['Rating']]\n",
    "    \n",
    "    return X, y\n",
    "\n"
   ]
  },
  {
   "cell_type": "code",
   "execution_count": 143,
   "metadata": {},
   "outputs": [],
   "source": [
    "hidden = 3\n",
    "embedding_size = 5\n",
    "C = nn.Embedding(vocab_size, embedding_size)\n",
    "lstm = nn.LSTM(input_size = embedding_size, hidden_size = hidden)\n",
    "W = nn.Linear(max_len * hidden, 1)"
   ]
  },
  {
   "cell_type": "code",
   "execution_count": 70,
   "metadata": {},
   "outputs": [
    {
     "data": {
      "text/plain": [
       "15733"
      ]
     },
     "execution_count": 70,
     "metadata": {},
     "output_type": "execute_result"
    }
   ],
   "source": [
    "vocab_size"
   ]
  },
  {
   "cell_type": "code",
   "execution_count": 128,
   "metadata": {},
   "outputs": [],
   "source": [
    "X,y = batch()"
   ]
  },
  {
   "cell_type": "code",
   "execution_count": 129,
   "metadata": {},
   "outputs": [],
   "source": [
    "X = torch.LongTensor(X)\n",
    "y = torch.FloatTensor(y)"
   ]
  },
  {
   "cell_type": "code",
   "execution_count": 142,
   "metadata": {
    "scrolled": true
   },
   "outputs": [
    {
     "data": {
      "text/plain": [
       "torch.Size([2000, 865])"
      ]
     },
     "execution_count": 142,
     "metadata": {},
     "output_type": "execute_result"
    }
   ],
   "source": [
    "X.shape"
   ]
  },
  {
   "cell_type": "code",
   "execution_count": 145,
   "metadata": {},
   "outputs": [
    {
     "data": {
      "text/plain": [
       "torch.Size([2000, 865, 5])"
      ]
     },
     "execution_count": 145,
     "metadata": {},
     "output_type": "execute_result"
    }
   ],
   "source": [
    "C(X).shape"
   ]
  },
  {
   "cell_type": "code",
   "execution_count": 130,
   "metadata": {},
   "outputs": [
    {
     "name": "stdout",
     "output_type": "stream",
     "text": [
      "torch.Size([2000, 865, 5])\n",
      "tensor([[[-0.1518,  0.4102,  1.2189,  0.5971,  1.0731],\n",
      "         [ 0.5422,  0.2817, -0.6056, -0.2148,  1.1948],\n",
      "         [ 0.9009, -0.4935,  0.5362, -0.8777,  1.1994],\n",
      "         ...,\n",
      "         [-1.3088, -1.0276,  1.4321, -1.2416,  0.4897],\n",
      "         [-1.3088, -1.0276,  1.4321, -1.2416,  0.4897],\n",
      "         [-1.3088, -1.0276,  1.4321, -1.2416,  0.4897]],\n",
      "\n",
      "        [[-0.1322,  0.9824,  0.8256, -0.7044, -0.0145],\n",
      "         [-0.7264, -0.5828,  3.0731,  1.2070, -1.8740],\n",
      "         [-0.6499,  0.3731,  1.6882, -1.1739,  0.5164],\n",
      "         ...,\n",
      "         [-1.3088, -1.0276,  1.4321, -1.2416,  0.4897],\n",
      "         [-1.3088, -1.0276,  1.4321, -1.2416,  0.4897],\n",
      "         [-1.3088, -1.0276,  1.4321, -1.2416,  0.4897]],\n",
      "\n",
      "        [[-0.9630, -0.2514, -0.2194,  0.4585, -1.5870],\n",
      "         [ 1.2738, -0.2600,  0.4037, -1.4024,  1.5165],\n",
      "         [ 1.1368, -0.8397,  0.1296, -0.6294, -1.1588],\n",
      "         ...,\n",
      "         [-1.3088, -1.0276,  1.4321, -1.2416,  0.4897],\n",
      "         [-1.3088, -1.0276,  1.4321, -1.2416,  0.4897],\n",
      "         [-1.3088, -1.0276,  1.4321, -1.2416,  0.4897]],\n",
      "\n",
      "        ...,\n",
      "\n",
      "        [[-0.1518,  0.4102,  1.2189,  0.5971,  1.0731],\n",
      "         [ 0.1737, -0.6804,  0.6789, -0.2220,  0.2790],\n",
      "         [-0.9724, -0.3713, -0.6714, -1.4004,  0.1497],\n",
      "         ...,\n",
      "         [-1.3088, -1.0276,  1.4321, -1.2416,  0.4897],\n",
      "         [-1.3088, -1.0276,  1.4321, -1.2416,  0.4897],\n",
      "         [-1.3088, -1.0276,  1.4321, -1.2416,  0.4897]],\n",
      "\n",
      "        [[-0.1227,  0.1199, -1.8146,  1.0481,  0.7109],\n",
      "         [ 0.6029,  1.5821,  1.1222,  0.3394, -0.9724],\n",
      "         [ 0.8488, -1.3802, -1.1150,  1.2266, -1.1176],\n",
      "         ...,\n",
      "         [-1.3088, -1.0276,  1.4321, -1.2416,  0.4897],\n",
      "         [-1.3088, -1.0276,  1.4321, -1.2416,  0.4897],\n",
      "         [-1.3088, -1.0276,  1.4321, -1.2416,  0.4897]],\n",
      "\n",
      "        [[ 0.9562,  0.5970, -0.1816, -1.2726, -0.4681],\n",
      "         [-0.1451,  0.7342, -0.6107, -1.0716, -1.3339],\n",
      "         [ 1.3581,  1.5900,  0.2960,  0.5102, -0.7232],\n",
      "         ...,\n",
      "         [-1.3088, -1.0276,  1.4321, -1.2416,  0.4897],\n",
      "         [-1.3088, -1.0276,  1.4321, -1.2416,  0.4897],\n",
      "         [-1.3088, -1.0276,  1.4321, -1.2416,  0.4897]]],\n",
      "       grad_fn=<EmbeddingBackward>)\n"
     ]
    }
   ],
   "source": [
    "embed = C(X)\n",
    "print(embed.shape)\n",
    "print(embed)"
   ]
  },
  {
   "cell_type": "code",
   "execution_count": 131,
   "metadata": {},
   "outputs": [
    {
     "name": "stdout",
     "output_type": "stream",
     "text": [
      "torch.Size([2000, 865, 5])\n",
      "tensor([[[-0.1518,  0.4102,  1.2189,  0.5971,  1.0731],\n",
      "         [ 0.5422,  0.2817, -0.6056, -0.2148,  1.1948],\n",
      "         [ 0.9009, -0.4935,  0.5362, -0.8777,  1.1994],\n",
      "         ...,\n",
      "         [-1.3088, -1.0276,  1.4321, -1.2416,  0.4897],\n",
      "         [-1.3088, -1.0276,  1.4321, -1.2416,  0.4897],\n",
      "         [-1.3088, -1.0276,  1.4321, -1.2416,  0.4897]],\n",
      "\n",
      "        [[-0.1322,  0.9824,  0.8256, -0.7044, -0.0145],\n",
      "         [-0.7264, -0.5828,  3.0731,  1.2070, -1.8740],\n",
      "         [-0.6499,  0.3731,  1.6882, -1.1739,  0.5164],\n",
      "         ...,\n",
      "         [-1.3088, -1.0276,  1.4321, -1.2416,  0.4897],\n",
      "         [-1.3088, -1.0276,  1.4321, -1.2416,  0.4897],\n",
      "         [-1.3088, -1.0276,  1.4321, -1.2416,  0.4897]],\n",
      "\n",
      "        [[-0.9630, -0.2514, -0.2194,  0.4585, -1.5870],\n",
      "         [ 1.2738, -0.2600,  0.4037, -1.4024,  1.5165],\n",
      "         [ 1.1368, -0.8397,  0.1296, -0.6294, -1.1588],\n",
      "         ...,\n",
      "         [-1.3088, -1.0276,  1.4321, -1.2416,  0.4897],\n",
      "         [-1.3088, -1.0276,  1.4321, -1.2416,  0.4897],\n",
      "         [-1.3088, -1.0276,  1.4321, -1.2416,  0.4897]],\n",
      "\n",
      "        ...,\n",
      "\n",
      "        [[-0.1518,  0.4102,  1.2189,  0.5971,  1.0731],\n",
      "         [ 0.1737, -0.6804,  0.6789, -0.2220,  0.2790],\n",
      "         [-0.9724, -0.3713, -0.6714, -1.4004,  0.1497],\n",
      "         ...,\n",
      "         [-1.3088, -1.0276,  1.4321, -1.2416,  0.4897],\n",
      "         [-1.3088, -1.0276,  1.4321, -1.2416,  0.4897],\n",
      "         [-1.3088, -1.0276,  1.4321, -1.2416,  0.4897]],\n",
      "\n",
      "        [[-0.1227,  0.1199, -1.8146,  1.0481,  0.7109],\n",
      "         [ 0.6029,  1.5821,  1.1222,  0.3394, -0.9724],\n",
      "         [ 0.8488, -1.3802, -1.1150,  1.2266, -1.1176],\n",
      "         ...,\n",
      "         [-1.3088, -1.0276,  1.4321, -1.2416,  0.4897],\n",
      "         [-1.3088, -1.0276,  1.4321, -1.2416,  0.4897],\n",
      "         [-1.3088, -1.0276,  1.4321, -1.2416,  0.4897]],\n",
      "\n",
      "        [[ 0.9562,  0.5970, -0.1816, -1.2726, -0.4681],\n",
      "         [-0.1451,  0.7342, -0.6107, -1.0716, -1.3339],\n",
      "         [ 1.3581,  1.5900,  0.2960,  0.5102, -0.7232],\n",
      "         ...,\n",
      "         [-1.3088, -1.0276,  1.4321, -1.2416,  0.4897],\n",
      "         [-1.3088, -1.0276,  1.4321, -1.2416,  0.4897],\n",
      "         [-1.3088, -1.0276,  1.4321, -1.2416,  0.4897]]],\n",
      "       grad_fn=<EmbeddingBackward>)\n"
     ]
    }
   ],
   "source": [
    "print(embed.shape)\n",
    "print(embed)"
   ]
  },
  {
   "cell_type": "code",
   "execution_count": 132,
   "metadata": {},
   "outputs": [],
   "source": [
    "o, (_,_) = lstm(embed)"
   ]
  },
  {
   "cell_type": "code",
   "execution_count": 133,
   "metadata": {
    "scrolled": true
   },
   "outputs": [
    {
     "name": "stdout",
     "output_type": "stream",
     "text": [
      "torch.Size([2000, 865, 3])\n",
      "tensor([[[ 0.0717, -0.0390,  0.0749],\n",
      "         [ 0.0556,  0.0183,  0.0858],\n",
      "         [ 0.0619, -0.0957,  0.1083],\n",
      "         ...,\n",
      "         [ 0.0075, -0.1229,  0.0327],\n",
      "         [ 0.0075, -0.1229,  0.0327],\n",
      "         [ 0.0075, -0.1229,  0.0327]],\n",
      "\n",
      "        [[ 0.1924,  0.0521,  0.0544],\n",
      "         [ 0.1251, -0.1549,  0.0499],\n",
      "         [ 0.1243, -0.0440,  0.0756],\n",
      "         ...,\n",
      "         [ 0.0091, -0.1635,  0.0368],\n",
      "         [ 0.0091, -0.1635,  0.0368],\n",
      "         [ 0.0091, -0.1635,  0.0368]],\n",
      "\n",
      "        [[ 0.0751,  0.0192, -0.0432],\n",
      "         [ 0.0952, -0.1411,  0.1182],\n",
      "         [ 0.1279, -0.0901,  0.1184],\n",
      "         ...,\n",
      "         [ 0.0094, -0.1778,  0.0365],\n",
      "         [ 0.0094, -0.1778,  0.0365],\n",
      "         [ 0.0094, -0.1778,  0.0365]],\n",
      "\n",
      "        ...,\n",
      "\n",
      "        [[ 0.1698, -0.0595,  0.1297],\n",
      "         [ 0.0604, -0.1325,  0.0245],\n",
      "         [ 0.0319,  0.0542, -0.0089],\n",
      "         ...,\n",
      "         [ 0.0093, -0.1864,  0.0353],\n",
      "         [ 0.0093, -0.1864,  0.0353],\n",
      "         [ 0.0093, -0.1864,  0.0353]],\n",
      "\n",
      "        [[ 0.0026, -0.0718,  0.0077],\n",
      "         [ 0.3265,  0.1217,  0.0048],\n",
      "         [ 0.0149, -0.0808,  0.0185],\n",
      "         ...,\n",
      "         [ 0.0093, -0.1864,  0.0353],\n",
      "         [ 0.0093, -0.1864,  0.0353],\n",
      "         [ 0.0093, -0.1864,  0.0353]],\n",
      "\n",
      "        [[ 0.1606,  0.1059,  0.0552],\n",
      "         [ 0.2101,  0.1330, -0.0223],\n",
      "         [ 0.2925,  0.1799,  0.0521],\n",
      "         ...,\n",
      "         [ 0.0093, -0.1864,  0.0353],\n",
      "         [ 0.0093, -0.1864,  0.0353],\n",
      "         [ 0.0093, -0.1864,  0.0353]]], grad_fn=<StackBackward>)\n"
     ]
    }
   ],
   "source": [
    "print(o.shape)\n",
    "print(o)"
   ]
  },
  {
   "cell_type": "code",
   "execution_count": 135,
   "metadata": {},
   "outputs": [
    {
     "data": {
      "text/plain": [
       "torch.Size([2000, 2595])"
      ]
     },
     "execution_count": 135,
     "metadata": {},
     "output_type": "execute_result"
    }
   ],
   "source": [
    "c = o.view(-1, max_len*3)\n",
    "c.shape"
   ]
  },
  {
   "cell_type": "code",
   "execution_count": 93,
   "metadata": {},
   "outputs": [
    {
     "name": "stdout",
     "output_type": "stream",
     "text": [
      "torch.Size([2000, 2595])\n"
     ]
    }
   ],
   "source": [
    "a = o.view(-1, 865*3)\n",
    "print(a.shape)"
   ]
  },
  {
   "cell_type": "code",
   "execution_count": 106,
   "metadata": {
    "scrolled": true
   },
   "outputs": [
    {
     "name": "stdout",
     "output_type": "stream",
     "text": [
      "torch.Size([2000, 1])\n",
      "torch.Size([2000])\n"
     ]
    }
   ],
   "source": [
    "y_hat = W(a)\n",
    "print(y_hat.shape)\n",
    "print(y.shape)\n",
    "y_hat = y_hat.squeeze()"
   ]
  },
  {
   "cell_type": "code",
   "execution_count": 99,
   "metadata": {},
   "outputs": [],
   "source": [
    "criterion = nn.BCEWithLogitsLoss()\n"
   ]
  },
  {
   "cell_type": "code",
   "execution_count": 107,
   "metadata": {},
   "outputs": [
    {
     "data": {
      "text/plain": [
       "tensor(0.6728, grad_fn=<BinaryCrossEntropyWithLogitsBackward>)"
      ]
     },
     "execution_count": 107,
     "metadata": {},
     "output_type": "execute_result"
    }
   ],
   "source": [
    "criterion(y_hat, y)"
   ]
  },
  {
   "cell_type": "code",
   "execution_count": null,
   "metadata": {},
   "outputs": [],
   "source": []
  }
 ],
 "metadata": {
  "kernelspec": {
   "display_name": "Python 3",
   "language": "python",
   "name": "python3"
  },
  "language_info": {
   "codemirror_mode": {
    "name": "ipython",
    "version": 3
   },
   "file_extension": ".py",
   "mimetype": "text/x-python",
   "name": "python",
   "nbconvert_exporter": "python",
   "pygments_lexer": "ipython3",
   "version": "3.7.4"
  }
 },
 "nbformat": 4,
 "nbformat_minor": 2
}
