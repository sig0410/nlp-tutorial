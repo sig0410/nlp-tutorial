{
 "cells": [
  {
   "cell_type": "code",
   "execution_count": 1,
   "metadata": {},
   "outputs": [],
   "source": [
    "import numpy as np\n",
    "import torch\n",
    "import torch.nn as nn\n",
    "import torch.optim as optim\n",
    "import torch.nn.functional as F"
   ]
  },
  {
   "cell_type": "code",
   "execution_count": 2,
   "metadata": {},
   "outputs": [],
   "source": [
    "sentences = [\"i love you\", \"he loves me\", \"she likes baseball\", \"i hate you\", \"sorry for that\", \"this is awful\"]\n",
    "labels = [1, 1, 1, 0, 0, 0]  # 1 is good, 0 is not good.\n",
    "\n",
    "word_list = \" \".join(sentences).split()\n",
    "word_list = list(set(word_list))\n",
    "word_dict = {w: i for i, w in enumerate(word_list)}\n"
   ]
  },
  {
   "cell_type": "code",
   "execution_count": 3,
   "metadata": {},
   "outputs": [],
   "source": [
    "embedding_size =2\n",
    "vocab_size = len(word_dict)\n",
    "W = nn.Embedding(vocab_size, embedding_size)"
   ]
  },
  {
   "cell_type": "code",
   "execution_count": 4,
   "metadata": {},
   "outputs": [],
   "source": [
    "inputs = torch.LongTensor([np.asarray([word_dict[n] for n in sen.split()]) for sen in sentences])"
   ]
  },
  {
   "cell_type": "code",
   "execution_count": 5,
   "metadata": {
    "scrolled": true
   },
   "outputs": [
    {
     "data": {
      "text/plain": [
       "tensor([[ 3,  8,  7],\n",
       "        [ 5, 10, 13],\n",
       "        [ 2, 12, 14],\n",
       "        [ 3, 15,  7],\n",
       "        [ 0,  6,  4],\n",
       "        [ 1,  9, 11]])"
      ]
     },
     "execution_count": 5,
     "metadata": {},
     "output_type": "execute_result"
    }
   ],
   "source": [
    "inputs"
   ]
  },
  {
   "cell_type": "code",
   "execution_count": 6,
   "metadata": {},
   "outputs": [
    {
     "data": {
      "text/plain": [
       "tensor([1, 1, 1, 0, 0, 0])"
      ]
     },
     "execution_count": 6,
     "metadata": {},
     "output_type": "execute_result"
    }
   ],
   "source": [
    "targets = torch.LongTensor([out for out in labels])\n",
    "targets"
   ]
  },
  {
   "cell_type": "code",
   "execution_count": 7,
   "metadata": {},
   "outputs": [
    {
     "name": "stdout",
     "output_type": "stream",
     "text": [
      "torch.Size([6, 3, 2])\n"
     ]
    }
   ],
   "source": [
    "w = W(inputs)\n",
    "print(w.shape)"
   ]
  },
  {
   "cell_type": "code",
   "execution_count": 8,
   "metadata": {},
   "outputs": [
    {
     "data": {
      "text/plain": [
       "tensor([[[-1.7486, -0.1385],\n",
       "         [-0.1584, -0.1532],\n",
       "         [ 0.3913,  0.2974]],\n",
       "\n",
       "        [[ 0.6932,  2.3172],\n",
       "         [ 0.2568,  0.9645],\n",
       "         [-0.4114, -0.6245]],\n",
       "\n",
       "        [[ 1.0114, -0.0720],\n",
       "         [ 2.3788,  0.8022],\n",
       "         [-1.5994, -0.7643]],\n",
       "\n",
       "        [[-1.7486, -0.1385],\n",
       "         [ 0.2028, -1.2965],\n",
       "         [ 0.3913,  0.2974]],\n",
       "\n",
       "        [[-0.5955,  1.4631],\n",
       "         [ 0.4260, -1.0771],\n",
       "         [ 0.4931,  0.6624]],\n",
       "\n",
       "        [[ 1.1545, -1.1912],\n",
       "         [ 0.5635,  0.5683],\n",
       "         [ 0.5103, -0.5516]]], grad_fn=<EmbeddingBackward>)"
      ]
     },
     "execution_count": 8,
     "metadata": {},
     "output_type": "execute_result"
    }
   ],
   "source": [
    "w"
   ]
  },
  {
   "cell_type": "code",
   "execution_count": 9,
   "metadata": {},
   "outputs": [],
   "source": [
    "w = w.unsqueeze(1)"
   ]
  },
  {
   "cell_type": "code",
   "execution_count": 10,
   "metadata": {
    "scrolled": true
   },
   "outputs": [
    {
     "data": {
      "text/plain": [
       "torch.Size([6, 1, 3, 2])"
      ]
     },
     "execution_count": 10,
     "metadata": {},
     "output_type": "execute_result"
    }
   ],
   "source": [
    "w.shape"
   ]
  },
  {
   "cell_type": "code",
   "execution_count": 38,
   "metadata": {},
   "outputs": [],
   "source": [
    "filter_sizes = [2, 2, 2]\n",
    "num_filters = 3\n",
    "filter_list = nn.ModuleList([nn.Conv2d(1, num_filters, (size, embedding_size)) for size in filter_sizes])\n"
   ]
  },
  {
   "cell_type": "code",
   "execution_count": 39,
   "metadata": {},
   "outputs": [
    {
     "name": "stdout",
     "output_type": "stream",
     "text": [
      "Conv2d(1, 3, kernel_size=(2, 2), stride=(1, 1))\n",
      "Conv2d(1, 3, kernel_size=(2, 2), stride=(1, 1))\n",
      "Conv2d(1, 3, kernel_size=(2, 2), stride=(1, 1))\n"
     ]
    }
   ],
   "source": [
    "for i in filter_list:\n",
    "    print(i)\n",
    "    # 사용자가 지정한 필터를 돌려서 값이 나오는데 그걸 어떻게 하는거쥐?"
   ]
  },
  {
   "cell_type": "code",
   "execution_count": 40,
   "metadata": {},
   "outputs": [],
   "source": [
    "for i, conv in enumerate(filter_list):\n",
    "    h = F.relu(conv(w))"
   ]
  },
  {
   "cell_type": "code",
   "execution_count": 41,
   "metadata": {},
   "outputs": [
    {
     "data": {
      "text/plain": [
       "torch.Size([6, 3, 2, 1])"
      ]
     },
     "execution_count": 41,
     "metadata": {},
     "output_type": "execute_result"
    }
   ],
   "source": [
    "h.shape"
   ]
  },
  {
   "cell_type": "code",
   "execution_count": 42,
   "metadata": {
    "scrolled": true
   },
   "outputs": [
    {
     "data": {
      "text/plain": [
       "tensor([[[[0.7706],\n",
       "          [0.0000]],\n",
       "\n",
       "         [[0.0000],\n",
       "          [0.0000]],\n",
       "\n",
       "         [[1.2731],\n",
       "          [0.4414]]],\n",
       "\n",
       "\n",
       "        [[[0.0000],\n",
       "          [0.0000]],\n",
       "\n",
       "         [[0.0000],\n",
       "          [0.0000]],\n",
       "\n",
       "         [[0.0000],\n",
       "          [0.3857]]],\n",
       "\n",
       "\n",
       "        [[[0.0000],\n",
       "          [0.0000]],\n",
       "\n",
       "         [[0.0000],\n",
       "          [0.4965]],\n",
       "\n",
       "         [[0.0000],\n",
       "          [0.0000]]],\n",
       "\n",
       "\n",
       "        [[[1.4537],\n",
       "          [0.1505]],\n",
       "\n",
       "         [[0.0000],\n",
       "          [0.0796]],\n",
       "\n",
       "         [[1.5444],\n",
       "          [0.3275]]],\n",
       "\n",
       "\n",
       "        [[[0.4104],\n",
       "          [0.0000]],\n",
       "\n",
       "         [[0.0000],\n",
       "          [0.1306]],\n",
       "\n",
       "         [[0.8845],\n",
       "          [0.1315]]],\n",
       "\n",
       "\n",
       "        [[[0.0000],\n",
       "          [0.0000]],\n",
       "\n",
       "         [[0.4448],\n",
       "          [0.0000]],\n",
       "\n",
       "         [[0.0000],\n",
       "          [0.2676]]]], grad_fn=<ReluBackward0>)"
      ]
     },
     "execution_count": 42,
     "metadata": {},
     "output_type": "execute_result"
    }
   ],
   "source": [
    "h"
   ]
  },
  {
   "cell_type": "code",
   "execution_count": 44,
   "metadata": {},
   "outputs": [
    {
     "name": "stdout",
     "output_type": "stream",
     "text": [
      "MaxPool2d(kernel_size=(2, 1), stride=(2, 1), padding=0, dilation=1, ceil_mode=False)\n"
     ]
    }
   ],
   "source": [
    "sequence_length = 3\n",
    "\n",
    "mp = nn.MaxPool2d((sequence_length -filter_sizes[i] + 1, 1))\n",
    "print(mp)\n",
    "# 각 단어마다 거쳐서 나온 값이 2개이고 그 값에서 큰값을 도출 "
   ]
  },
  {
   "cell_type": "code",
   "execution_count": 45,
   "metadata": {},
   "outputs": [
    {
     "name": "stdout",
     "output_type": "stream",
     "text": [
      "tensor([[[[0.7706]],\n",
      "\n",
      "         [[0.0000]],\n",
      "\n",
      "         [[1.2731]]],\n",
      "\n",
      "\n",
      "        [[[0.0000]],\n",
      "\n",
      "         [[0.0000]],\n",
      "\n",
      "         [[0.3857]]],\n",
      "\n",
      "\n",
      "        [[[0.0000]],\n",
      "\n",
      "         [[0.4965]],\n",
      "\n",
      "         [[0.0000]]],\n",
      "\n",
      "\n",
      "        [[[1.4537]],\n",
      "\n",
      "         [[0.0796]],\n",
      "\n",
      "         [[1.5444]]],\n",
      "\n",
      "\n",
      "        [[[0.4104]],\n",
      "\n",
      "         [[0.1306]],\n",
      "\n",
      "         [[0.8845]]],\n",
      "\n",
      "\n",
      "        [[[0.0000]],\n",
      "\n",
      "         [[0.4448]],\n",
      "\n",
      "         [[0.2676]]]], grad_fn=<MaxPool2DWithIndicesBackward>)\n",
      "tensor([[[[0.7706, 0.0000, 1.2731]]],\n",
      "\n",
      "\n",
      "        [[[0.0000, 0.0000, 0.3857]]],\n",
      "\n",
      "\n",
      "        [[[0.0000, 0.4965, 0.0000]]],\n",
      "\n",
      "\n",
      "        [[[1.4537, 0.0796, 1.5444]]],\n",
      "\n",
      "\n",
      "        [[[0.4104, 0.1306, 0.8845]]],\n",
      "\n",
      "\n",
      "        [[[0.0000, 0.4448, 0.2676]]]], grad_fn=<PermuteBackward>)\n"
     ]
    }
   ],
   "source": [
    "a = mp(h)\n",
    "print(a)\n",
    "b = mp(h).permute(0, 3, 2, 1)\n",
    "print(b)"
   ]
  },
  {
   "cell_type": "code",
   "execution_count": 46,
   "metadata": {},
   "outputs": [
    {
     "name": "stdout",
     "output_type": "stream",
     "text": [
      "torch.Size([6, 3, 1, 1])\n",
      "torch.Size([6, 1, 1, 3])\n"
     ]
    }
   ],
   "source": [
    "print(a.shape)\n",
    "print(b.shape)"
   ]
  },
  {
   "cell_type": "code",
   "execution_count": 29,
   "metadata": {
    "scrolled": true
   },
   "outputs": [
    {
     "name": "stdout",
     "output_type": "stream",
     "text": [
      "[tensor([[[[0.0000, 0.2461, 0.2706]]],\n",
      "\n",
      "\n",
      "        [[[0.0000, 0.6341, 0.9572]]],\n",
      "\n",
      "\n",
      "        [[[0.0000, 0.5048, 0.8070]]],\n",
      "\n",
      "\n",
      "        [[[0.0000, 0.0000, 0.3058]]],\n",
      "\n",
      "\n",
      "        [[[0.0000, 0.2506, 0.4929]]],\n",
      "\n",
      "\n",
      "        [[[0.0000, 0.0000, 0.0000]]]], grad_fn=<PermuteBackward>)]\n"
     ]
    }
   ],
   "source": [
    "pooled_outputs = []\n",
    "pooled_outputs.append(b)\n",
    "print(pooled_outputs)"
   ]
  },
  {
   "cell_type": "code",
   "execution_count": 30,
   "metadata": {
    "scrolled": true
   },
   "outputs": [
    {
     "data": {
      "text/plain": [
       "tensor([0.0000, 0.2461, 0.2706], grad_fn=<SelectBackward>)"
      ]
     },
     "execution_count": 30,
     "metadata": {},
     "output_type": "execute_result"
    }
   ],
   "source": [
    "pooled_outputs[0][0][0][0]\n",
    "# 6, 1, 1, 3 차원 "
   ]
  },
  {
   "cell_type": "code",
   "execution_count": 31,
   "metadata": {},
   "outputs": [
    {
     "data": {
      "text/plain": [
       "tensor([[[[0.0000, 0.2461, 0.2706]]],\n",
       "\n",
       "\n",
       "        [[[0.0000, 0.6341, 0.9572]]],\n",
       "\n",
       "\n",
       "        [[[0.0000, 0.5048, 0.8070]]],\n",
       "\n",
       "\n",
       "        [[[0.0000, 0.0000, 0.3058]]],\n",
       "\n",
       "\n",
       "        [[[0.0000, 0.2506, 0.4929]]],\n",
       "\n",
       "\n",
       "        [[[0.0000, 0.0000, 0.0000]]]], grad_fn=<CatBackward>)"
      ]
     },
     "execution_count": 31,
     "metadata": {},
     "output_type": "execute_result"
    }
   ],
   "source": [
    "filter_sizes = [2, 2, 2]\n",
    "h_pool = torch.cat(pooled_outputs, len(filter_sizes))\n",
    "h_pool"
   ]
  },
  {
   "cell_type": "code",
   "execution_count": 32,
   "metadata": {},
   "outputs": [
    {
     "data": {
      "text/plain": [
       "torch.Size([6, 1, 1, 3])"
      ]
     },
     "execution_count": 32,
     "metadata": {},
     "output_type": "execute_result"
    }
   ],
   "source": [
    "h_pool.shape"
   ]
  },
  {
   "cell_type": "code",
   "execution_count": 47,
   "metadata": {},
   "outputs": [],
   "source": [
    "num_filters_total = num_filters * len(filter_sizes)\n",
    "num_classes = 2\n",
    "weight = nn.Linear(num_filters_total, num_classes, bias = False)\n",
    "# num_classes가 output "
   ]
  },
  {
   "cell_type": "code",
   "execution_count": 48,
   "metadata": {},
   "outputs": [
    {
     "data": {
      "text/plain": [
       "Linear(in_features=9, out_features=2, bias=False)"
      ]
     },
     "execution_count": 48,
     "metadata": {},
     "output_type": "execute_result"
    }
   ],
   "source": [
    "weight"
   ]
  },
  {
   "cell_type": "code",
   "execution_count": 49,
   "metadata": {},
   "outputs": [
    {
     "data": {
      "text/plain": [
       "tensor([[0.0000, 0.2461, 0.2706, 0.0000, 0.6341, 0.9572, 0.0000, 0.5048, 0.8070],\n",
       "        [0.0000, 0.0000, 0.3058, 0.0000, 0.2506, 0.4929, 0.0000, 0.0000, 0.0000]],\n",
       "       grad_fn=<ViewBackward>)"
      ]
     },
     "execution_count": 49,
     "metadata": {},
     "output_type": "execute_result"
    }
   ],
   "source": [
    "h_pool_flat = torch.reshape(h_pool, [-1, num_filters_total])\n",
    "h_pool_flat"
   ]
  },
  {
   "cell_type": "code",
   "execution_count": 50,
   "metadata": {
    "scrolled": true
   },
   "outputs": [
    {
     "data": {
      "text/plain": [
       "torch.Size([2, 9])"
      ]
     },
     "execution_count": 50,
     "metadata": {},
     "output_type": "execute_result"
    }
   ],
   "source": [
    "h_pool_flat.shape"
   ]
  },
  {
   "cell_type": "code",
   "execution_count": 53,
   "metadata": {},
   "outputs": [],
   "source": [
    "bias = nn.Parameter(torch.ones([num_classes]))"
   ]
  },
  {
   "cell_type": "code",
   "execution_count": 55,
   "metadata": {
    "scrolled": true
   },
   "outputs": [
    {
     "data": {
      "text/plain": [
       "Parameter containing:\n",
       "tensor([1., 1.], requires_grad=True)"
      ]
     },
     "execution_count": 55,
     "metadata": {},
     "output_type": "execute_result"
    }
   ],
   "source": [
    "bias"
   ]
  },
  {
   "cell_type": "code",
   "execution_count": 57,
   "metadata": {},
   "outputs": [
    {
     "data": {
      "text/plain": [
       "tensor([[-0.7256,  0.2851],\n",
       "        [-0.2527, -0.0055]], grad_fn=<MmBackward>)"
      ]
     },
     "execution_count": 57,
     "metadata": {},
     "output_type": "execute_result"
    }
   ],
   "source": [
    "weight(h_pool_flat)"
   ]
  },
  {
   "cell_type": "code",
   "execution_count": 54,
   "metadata": {},
   "outputs": [
    {
     "data": {
      "text/plain": [
       "tensor([[0.2744, 1.2851],\n",
       "        [0.7473, 0.9945]], grad_fn=<AddBackward0>)"
      ]
     },
     "execution_count": 54,
     "metadata": {},
     "output_type": "execute_result"
    }
   ],
   "source": [
    "weight(h_pool_flat)+bias\n",
    "# 좀 이상한데 "
   ]
  },
  {
   "cell_type": "code",
   "execution_count": null,
   "metadata": {},
   "outputs": [],
   "source": []
  }
 ],
 "metadata": {
  "kernelspec": {
   "display_name": "Python 3",
   "language": "python",
   "name": "python3"
  },
  "language_info": {
   "codemirror_mode": {
    "name": "ipython",
    "version": 3
   },
   "file_extension": ".py",
   "mimetype": "text/x-python",
   "name": "python",
   "nbconvert_exporter": "python",
   "pygments_lexer": "ipython3",
   "version": "3.7.4"
  }
 },
 "nbformat": 4,
 "nbformat_minor": 2
}
