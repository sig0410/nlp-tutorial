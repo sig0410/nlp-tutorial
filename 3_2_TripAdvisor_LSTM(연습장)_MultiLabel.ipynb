{
 "cells": [
  {
   "cell_type": "code",
   "execution_count": 1,
   "metadata": {},
   "outputs": [],
   "source": [
    "import numpy as np\n",
    "import torch \n",
    "import torch.nn as nn\n",
    "import torch.optim as optim\n",
    "import pandas as pd \n",
    "import re \n",
    "from nltk.corpus import stopwords"
   ]
  },
  {
   "cell_type": "code",
   "execution_count": 2,
   "metadata": {},
   "outputs": [],
   "source": [
    "df = pd.read_csv('/Users/Moon/nlp-tutorial/tripadvisor_hotel_reviews.csv')\n",
    "df = df.sample(n = 2000)"
   ]
  },
  {
   "cell_type": "code",
   "execution_count": 3,
   "metadata": {},
   "outputs": [
    {
     "name": "stdout",
     "output_type": "stream",
     "text": [
      "Review    0\n",
      "Rating    0\n",
      "dtype: int64\n"
     ]
    }
   ],
   "source": [
    "print(df.isnull().sum())"
   ]
  },
  {
   "cell_type": "code",
   "execution_count": 4,
   "metadata": {},
   "outputs": [],
   "source": [
    "def categorical(data):\n",
    "    a = {i+1: w for i,w in enumerate(range(len(data.unique())))}\n",
    "    b = []\n",
    "    for i in df['Rating']:\n",
    "        one_hot = [0]*(len(df['Rating'].unique()))\n",
    "        index = a[i]\n",
    "        one_hot[index] = 1\n",
    "        b.append(one_hot)\n",
    "    return b\n",
    "\n",
    "\n"
   ]
  },
  {
   "cell_type": "code",
   "execution_count": 5,
   "metadata": {},
   "outputs": [],
   "source": [
    "label = categorical(df['Rating'])"
   ]
  },
  {
   "cell_type": "code",
   "execution_count": 6,
   "metadata": {},
   "outputs": [],
   "source": [
    "def preprocessing(data):\n",
    "    only = []\n",
    "    for i in data:\n",
    "        only.append(re.sub('[^a-zA-Z]', ' ', i))\n",
    "    \n",
    "    stops = set(stopwords.words('english'))\n",
    "    inputs = [word for word in only if not word in stops]\n",
    "    \n",
    "    return inputs"
   ]
  },
  {
   "cell_type": "code",
   "execution_count": 7,
   "metadata": {},
   "outputs": [],
   "source": [
    "data = preprocessing(df['Review'])"
   ]
  },
  {
   "cell_type": "code",
   "execution_count": 8,
   "metadata": {},
   "outputs": [],
   "source": [
    "b = []\n",
    "for i in data:\n",
    "    b.append(len(i))"
   ]
  },
  {
   "cell_type": "code",
   "execution_count": 9,
   "metadata": {
    "scrolled": false
   },
   "outputs": [
    {
     "data": {
      "text/plain": [
       "<matplotlib.axes._subplots.AxesSubplot at 0x7fd1f4e64710>"
      ]
     },
     "execution_count": 9,
     "metadata": {},
     "output_type": "execute_result"
    }
   ],
   "source": [
    "import seaborn as sns\n",
    "sns.distplot(b)"
   ]
  },
  {
   "cell_type": "code",
   "execution_count": 10,
   "metadata": {
    "scrolled": false
   },
   "outputs": [
    {
     "data": {
      "text/plain": [
       "count     2000.000000\n",
       "mean       730.469000\n",
       "std        670.060264\n",
       "min         60.000000\n",
       "25%        351.000000\n",
       "50%        540.000000\n",
       "75%        875.250000\n",
       "max      10062.000000\n",
       "dtype: float64"
      ]
     },
     "execution_count": 10,
     "metadata": {},
     "output_type": "execute_result"
    }
   ],
   "source": [
    "b = pd.Series(b)\n",
    "b.describe()"
   ]
  },
  {
   "cell_type": "code",
   "execution_count": 11,
   "metadata": {},
   "outputs": [],
   "source": [
    "c = pd.Series(b).describe()"
   ]
  },
  {
   "cell_type": "code",
   "execution_count": 21,
   "metadata": {},
   "outputs": [],
   "source": [
    "g = c['75%']"
   ]
  },
  {
   "cell_type": "code",
   "execution_count": 22,
   "metadata": {},
   "outputs": [
    {
     "data": {
      "text/plain": [
       "875.25"
      ]
     },
     "execution_count": 22,
     "metadata": {},
     "output_type": "execute_result"
    }
   ],
   "source": [
    "g"
   ]
  },
  {
   "cell_type": "code",
   "execution_count": 23,
   "metadata": {},
   "outputs": [],
   "source": [
    "x = [i for i in data]\n",
    "word_list = ' '.join(x).split()\n",
    "word_list = list(set(word_list))\n",
    "\n",
    "word_dict = {w : i for i, w in enumerate(word_list)}\n",
    "vocab_size = len(word_dict)\n"
   ]
  },
  {
   "cell_type": "code",
   "execution_count": 24,
   "metadata": {},
   "outputs": [],
   "source": [
    "X = []\n",
    "for sen in data:\n",
    "        word = sen.split()\n",
    "        \n",
    "        input_x = [word_dict[n] for n in word]\n",
    "        X.append(input_x[:int(g)])"
   ]
  },
  {
   "cell_type": "code",
   "execution_count": 27,
   "metadata": {
    "scrolled": true
   },
   "outputs": [
    {
     "data": {
      "text/plain": [
       "875"
      ]
     },
     "execution_count": 27,
     "metadata": {},
     "output_type": "execute_result"
    }
   ],
   "source": [
    "int(g)"
   ]
  },
  {
   "cell_type": "code",
   "execution_count": 29,
   "metadata": {},
   "outputs": [
    {
     "data": {
      "text/plain": [
       "82"
      ]
     },
     "execution_count": 29,
     "metadata": {},
     "output_type": "execute_result"
    }
   ],
   "source": [
    "len(X[0])"
   ]
  },
  {
   "cell_type": "code",
   "execution_count": 33,
   "metadata": {},
   "outputs": [],
   "source": [
    "max_len = int(g)\n",
    "\n",
    "def batch():\n",
    "    X = []\n",
    "    y = []\n",
    "    \n",
    "    for sen in data:\n",
    "        word = sen.split()\n",
    "        \n",
    "        input_x = [word_dict[n] for n in word]\n",
    "        X.append(input_x[:max_len])\n",
    "        \n",
    "    for item in X:\n",
    "        while len(item) < max_len:\n",
    "            item.append(0)\n",
    "            \n",
    "    y = [i for i in categorical(df['Rating'])]\n",
    "\n",
    "    \n",
    "    return X, y\n",
    "\n"
   ]
  },
  {
   "cell_type": "code",
   "execution_count": 34,
   "metadata": {},
   "outputs": [],
   "source": [
    "X,y = batch()"
   ]
  },
  {
   "cell_type": "code",
   "execution_count": 39,
   "metadata": {},
   "outputs": [],
   "source": [
    "X = torch.LongTensor(X)\n",
    "y = torch.FloatTensor(y)"
   ]
  },
  {
   "cell_type": "code",
   "execution_count": 40,
   "metadata": {},
   "outputs": [
    {
     "name": "stdout",
     "output_type": "stream",
     "text": [
      "torch.Size([2000, 5])\n"
     ]
    }
   ],
   "source": [
    "print(y.shape)"
   ]
  },
  {
   "cell_type": "code",
   "execution_count": 56,
   "metadata": {},
   "outputs": [],
   "source": [
    "hidden = 3\n",
    "embedding_size = 5\n",
    "C = nn.Embedding(vocab_size, embedding_size)\n",
    "lstm = nn.LSTM(input_size = embedding_size, hidden_size = hidden)\n",
    "W = nn.Linear(max_len * hidden, 5)"
   ]
  },
  {
   "cell_type": "code",
   "execution_count": 57,
   "metadata": {
    "scrolled": true
   },
   "outputs": [
    {
     "data": {
      "text/plain": [
       "15619"
      ]
     },
     "execution_count": 57,
     "metadata": {},
     "output_type": "execute_result"
    }
   ],
   "source": [
    "vocab_size"
   ]
  },
  {
   "cell_type": "code",
   "execution_count": 58,
   "metadata": {
    "scrolled": true
   },
   "outputs": [
    {
     "data": {
      "text/plain": [
       "torch.Size([2000, 875])"
      ]
     },
     "execution_count": 58,
     "metadata": {},
     "output_type": "execute_result"
    }
   ],
   "source": [
    "X.shape"
   ]
  },
  {
   "cell_type": "code",
   "execution_count": 59,
   "metadata": {},
   "outputs": [
    {
     "data": {
      "text/plain": [
       "torch.Size([2000, 875, 5])"
      ]
     },
     "execution_count": 59,
     "metadata": {},
     "output_type": "execute_result"
    }
   ],
   "source": [
    "C(X).shape"
   ]
  },
  {
   "cell_type": "code",
   "execution_count": 60,
   "metadata": {},
   "outputs": [
    {
     "name": "stdout",
     "output_type": "stream",
     "text": [
      "torch.Size([2000, 875, 5])\n",
      "tensor([[[-0.1026, -1.7125, -1.0141, -1.8509, -0.3761],\n",
      "         [ 0.2630,  0.2868, -1.0521, -0.8570,  1.5943],\n",
      "         [-0.4577, -0.8166, -0.5232,  0.8071, -0.4960],\n",
      "         ...,\n",
      "         [ 0.1232,  1.2420,  1.6033,  0.7651,  0.9256],\n",
      "         [ 0.1232,  1.2420,  1.6033,  0.7651,  0.9256],\n",
      "         [ 0.1232,  1.2420,  1.6033,  0.7651,  0.9256]],\n",
      "\n",
      "        [[-2.6931, -0.6384,  0.8434,  1.2591,  0.0625],\n",
      "         [ 0.4339,  1.3177, -0.2733, -1.2634, -2.4958],\n",
      "         [ 0.4282, -0.1981, -1.5471,  0.6868, -2.2018],\n",
      "         ...,\n",
      "         [ 0.1232,  1.2420,  1.6033,  0.7651,  0.9256],\n",
      "         [ 0.1232,  1.2420,  1.6033,  0.7651,  0.9256],\n",
      "         [ 0.1232,  1.2420,  1.6033,  0.7651,  0.9256]],\n",
      "\n",
      "        [[ 0.3445,  0.8286,  0.4700,  1.3043,  0.3588],\n",
      "         [-1.1043, -1.1245,  0.8650,  0.1754,  1.0857],\n",
      "         [ 0.2116,  0.0961,  0.6255, -0.5220, -0.4737],\n",
      "         ...,\n",
      "         [ 0.1232,  1.2420,  1.6033,  0.7651,  0.9256],\n",
      "         [ 0.1232,  1.2420,  1.6033,  0.7651,  0.9256],\n",
      "         [ 0.1232,  1.2420,  1.6033,  0.7651,  0.9256]],\n",
      "\n",
      "        ...,\n",
      "\n",
      "        [[ 0.6405, -1.2655, -0.5125, -0.3361, -0.1069],\n",
      "         [-0.6775, -0.1634,  0.1880, -1.8044, -0.2936],\n",
      "         [-1.7500, -0.2433,  0.5041, -1.5609,  0.7346],\n",
      "         ...,\n",
      "         [ 0.1232,  1.2420,  1.6033,  0.7651,  0.9256],\n",
      "         [ 0.1232,  1.2420,  1.6033,  0.7651,  0.9256],\n",
      "         [ 0.1232,  1.2420,  1.6033,  0.7651,  0.9256]],\n",
      "\n",
      "        [[-0.1026, -1.7125, -1.0141, -1.8509, -0.3761],\n",
      "         [-0.9626, -0.1880, -0.7515,  0.5488, -0.1794],\n",
      "         [ 0.5457, -1.2452,  0.9520,  0.8912,  0.8091],\n",
      "         ...,\n",
      "         [ 0.1232,  1.2420,  1.6033,  0.7651,  0.9256],\n",
      "         [ 0.1232,  1.2420,  1.6033,  0.7651,  0.9256],\n",
      "         [ 0.1232,  1.2420,  1.6033,  0.7651,  0.9256]],\n",
      "\n",
      "        [[ 1.5693, -1.5697, -0.8246, -0.8855, -0.1315],\n",
      "         [-0.3414, -0.7513, -0.2356,  1.5232, -1.0054],\n",
      "         [ 0.4318,  1.1347,  0.1182, -1.5001, -0.4162],\n",
      "         ...,\n",
      "         [ 0.1232,  1.2420,  1.6033,  0.7651,  0.9256],\n",
      "         [ 0.1232,  1.2420,  1.6033,  0.7651,  0.9256],\n",
      "         [ 0.1232,  1.2420,  1.6033,  0.7651,  0.9256]]],\n",
      "       grad_fn=<EmbeddingBackward>)\n"
     ]
    }
   ],
   "source": [
    "embed = C(X)\n",
    "print(embed.shape)\n",
    "print(embed)"
   ]
  },
  {
   "cell_type": "code",
   "execution_count": 61,
   "metadata": {},
   "outputs": [
    {
     "name": "stdout",
     "output_type": "stream",
     "text": [
      "torch.Size([2000, 875, 5])\n",
      "tensor([[[-0.1026, -1.7125, -1.0141, -1.8509, -0.3761],\n",
      "         [ 0.2630,  0.2868, -1.0521, -0.8570,  1.5943],\n",
      "         [-0.4577, -0.8166, -0.5232,  0.8071, -0.4960],\n",
      "         ...,\n",
      "         [ 0.1232,  1.2420,  1.6033,  0.7651,  0.9256],\n",
      "         [ 0.1232,  1.2420,  1.6033,  0.7651,  0.9256],\n",
      "         [ 0.1232,  1.2420,  1.6033,  0.7651,  0.9256]],\n",
      "\n",
      "        [[-2.6931, -0.6384,  0.8434,  1.2591,  0.0625],\n",
      "         [ 0.4339,  1.3177, -0.2733, -1.2634, -2.4958],\n",
      "         [ 0.4282, -0.1981, -1.5471,  0.6868, -2.2018],\n",
      "         ...,\n",
      "         [ 0.1232,  1.2420,  1.6033,  0.7651,  0.9256],\n",
      "         [ 0.1232,  1.2420,  1.6033,  0.7651,  0.9256],\n",
      "         [ 0.1232,  1.2420,  1.6033,  0.7651,  0.9256]],\n",
      "\n",
      "        [[ 0.3445,  0.8286,  0.4700,  1.3043,  0.3588],\n",
      "         [-1.1043, -1.1245,  0.8650,  0.1754,  1.0857],\n",
      "         [ 0.2116,  0.0961,  0.6255, -0.5220, -0.4737],\n",
      "         ...,\n",
      "         [ 0.1232,  1.2420,  1.6033,  0.7651,  0.9256],\n",
      "         [ 0.1232,  1.2420,  1.6033,  0.7651,  0.9256],\n",
      "         [ 0.1232,  1.2420,  1.6033,  0.7651,  0.9256]],\n",
      "\n",
      "        ...,\n",
      "\n",
      "        [[ 0.6405, -1.2655, -0.5125, -0.3361, -0.1069],\n",
      "         [-0.6775, -0.1634,  0.1880, -1.8044, -0.2936],\n",
      "         [-1.7500, -0.2433,  0.5041, -1.5609,  0.7346],\n",
      "         ...,\n",
      "         [ 0.1232,  1.2420,  1.6033,  0.7651,  0.9256],\n",
      "         [ 0.1232,  1.2420,  1.6033,  0.7651,  0.9256],\n",
      "         [ 0.1232,  1.2420,  1.6033,  0.7651,  0.9256]],\n",
      "\n",
      "        [[-0.1026, -1.7125, -1.0141, -1.8509, -0.3761],\n",
      "         [-0.9626, -0.1880, -0.7515,  0.5488, -0.1794],\n",
      "         [ 0.5457, -1.2452,  0.9520,  0.8912,  0.8091],\n",
      "         ...,\n",
      "         [ 0.1232,  1.2420,  1.6033,  0.7651,  0.9256],\n",
      "         [ 0.1232,  1.2420,  1.6033,  0.7651,  0.9256],\n",
      "         [ 0.1232,  1.2420,  1.6033,  0.7651,  0.9256]],\n",
      "\n",
      "        [[ 1.5693, -1.5697, -0.8246, -0.8855, -0.1315],\n",
      "         [-0.3414, -0.7513, -0.2356,  1.5232, -1.0054],\n",
      "         [ 0.4318,  1.1347,  0.1182, -1.5001, -0.4162],\n",
      "         ...,\n",
      "         [ 0.1232,  1.2420,  1.6033,  0.7651,  0.9256],\n",
      "         [ 0.1232,  1.2420,  1.6033,  0.7651,  0.9256],\n",
      "         [ 0.1232,  1.2420,  1.6033,  0.7651,  0.9256]]],\n",
      "       grad_fn=<EmbeddingBackward>)\n"
     ]
    }
   ],
   "source": [
    "print(embed.shape)\n",
    "print(embed)"
   ]
  },
  {
   "cell_type": "code",
   "execution_count": 62,
   "metadata": {},
   "outputs": [],
   "source": [
    "o, (_,_) = lstm(embed)"
   ]
  },
  {
   "cell_type": "code",
   "execution_count": 63,
   "metadata": {
    "scrolled": true
   },
   "outputs": [
    {
     "name": "stdout",
     "output_type": "stream",
     "text": [
      "torch.Size([2000, 875, 3])\n",
      "tensor([[[-0.3453, -0.3764, -0.0859],\n",
      "         [-0.3925, -0.0280, -0.0440],\n",
      "         [-0.1480, -0.0808, -0.0664],\n",
      "         ...,\n",
      "         [ 0.1968,  0.3957, -0.0873],\n",
      "         [ 0.1968,  0.3957, -0.0873],\n",
      "         [ 0.1968,  0.3957, -0.0873]],\n",
      "\n",
      "        [[-0.1910, -0.1305, -0.0585],\n",
      "         [ 0.0687, -0.1941, -0.3602],\n",
      "         [-0.0231, -0.1651, -0.1972],\n",
      "         ...,\n",
      "         [ 0.2436,  0.5364, -0.1361],\n",
      "         [ 0.2436,  0.5364, -0.1361],\n",
      "         [ 0.2436,  0.5364, -0.1361]],\n",
      "\n",
      "        [[ 0.0501,  0.2708, -0.1472],\n",
      "         [-0.2625,  0.1637, -0.0775],\n",
      "         [ 0.0105, -0.2994, -0.2958],\n",
      "         ...,\n",
      "         [ 0.2574,  0.5904, -0.1577],\n",
      "         [ 0.2574,  0.5904, -0.1577],\n",
      "         [ 0.2574,  0.5904, -0.1577]],\n",
      "\n",
      "        ...,\n",
      "\n",
      "        [[-0.4665, -0.3947, -0.1442],\n",
      "         [-0.4254,  0.0876, -0.2616],\n",
      "         [-0.3482,  0.4923, -0.1288],\n",
      "         ...,\n",
      "         [ 0.2629,  0.6350, -0.1768],\n",
      "         [ 0.2629,  0.6350, -0.1768],\n",
      "         [ 0.2629,  0.6350, -0.1768]],\n",
      "\n",
      "        [[-0.5983, -0.5177, -0.1583],\n",
      "         [-0.3332,  0.1877, -0.1172],\n",
      "         [-0.3238,  0.3662, -0.0692],\n",
      "         ...,\n",
      "         [ 0.2629,  0.6350, -0.1768],\n",
      "         [ 0.2629,  0.6350, -0.1768],\n",
      "         [ 0.2629,  0.6350, -0.1768]],\n",
      "\n",
      "        [[-0.7126, -0.4548, -0.1540],\n",
      "         [-0.1143,  0.0865, -0.1145],\n",
      "         [-0.1989,  0.3351, -0.3343],\n",
      "         ...,\n",
      "         [ 0.2629,  0.6350, -0.1768],\n",
      "         [ 0.2629,  0.6350, -0.1768],\n",
      "         [ 0.2629,  0.6350, -0.1768]]], grad_fn=<StackBackward>)\n"
     ]
    }
   ],
   "source": [
    "print(o.shape)\n",
    "print(o)"
   ]
  },
  {
   "cell_type": "code",
   "execution_count": 64,
   "metadata": {},
   "outputs": [
    {
     "data": {
      "text/plain": [
       "torch.Size([2000, 2625])"
      ]
     },
     "execution_count": 64,
     "metadata": {},
     "output_type": "execute_result"
    }
   ],
   "source": [
    "c = o.view(-1, max_len*3)\n",
    "c.shape"
   ]
  },
  {
   "cell_type": "code",
   "execution_count": 66,
   "metadata": {},
   "outputs": [
    {
     "name": "stdout",
     "output_type": "stream",
     "text": [
      "torch.Size([2000, 2625])\n"
     ]
    }
   ],
   "source": [
    "a = o.view(-1, int(g)*hidden)\n",
    "print(a.shape)"
   ]
  },
  {
   "cell_type": "code",
   "execution_count": 67,
   "metadata": {
    "scrolled": true
   },
   "outputs": [
    {
     "name": "stdout",
     "output_type": "stream",
     "text": [
      "torch.Size([2000, 5])\n",
      "torch.Size([2000, 5])\n"
     ]
    }
   ],
   "source": [
    "y_hat = W(a)\n",
    "print(y_hat.shape)\n",
    "print(y.shape)\n",
    "y_hat = y_hat.squeeze()"
   ]
  },
  {
   "cell_type": "code",
   "execution_count": 69,
   "metadata": {},
   "outputs": [],
   "source": [
    "criterion = nn.CrossEntropyLoss()\n"
   ]
  },
  {
   "cell_type": "code",
   "execution_count": 73,
   "metadata": {},
   "outputs": [
    {
     "name": "stdout",
     "output_type": "stream",
     "text": [
      "torch.Size([2000, 5])\n",
      "torch.Size([2000, 5])\n"
     ]
    }
   ],
   "source": [
    "print(y.shape)\n",
    "print(y_hat.shape)"
   ]
  },
  {
   "cell_type": "code",
   "execution_count": 76,
   "metadata": {
    "scrolled": false
   },
   "outputs": [
    {
     "ename": "AttributeError",
     "evalue": "'Tensor' object has no attribute 'index'",
     "output_type": "error",
     "traceback": [
      "\u001b[0;31m---------------------------------------------------------------------------\u001b[0m",
      "\u001b[0;31mAttributeError\u001b[0m                            Traceback (most recent call last)",
      "\u001b[0;32m<ipython-input-76-c473901ea035>\u001b[0m in \u001b[0;36m<module>\u001b[0;34m\u001b[0m\n\u001b[0;32m----> 1\u001b[0;31m \u001b[0ma\u001b[0m \u001b[0;34m=\u001b[0m \u001b[0my\u001b[0m\u001b[0;34m.\u001b[0m\u001b[0mindex\u001b[0m\u001b[0;34m\u001b[0m\u001b[0;34m\u001b[0m\u001b[0m\n\u001b[0m\u001b[1;32m      2\u001b[0m \u001b[0mprint\u001b[0m\u001b[0;34m(\u001b[0m\u001b[0ma\u001b[0m\u001b[0;34m)\u001b[0m\u001b[0;34m\u001b[0m\u001b[0;34m\u001b[0m\u001b[0m\n",
      "\u001b[0;31mAttributeError\u001b[0m: 'Tensor' object has no attribute 'index'"
     ]
    }
   ],
   "source": [
    "a = y.index\n",
    "print(a)"
   ]
  },
  {
   "cell_type": "code",
   "execution_count": 75,
   "metadata": {},
   "outputs": [
    {
     "data": {
      "text/plain": [
       "tensor([[ 0.0885,  0.2471,  0.1159, -0.1826,  0.1813],\n",
       "        [ 0.0801,  0.3519,  0.2286, -0.2638,  0.2386],\n",
       "        [ 0.0726,  0.4127,  0.2536, -0.3618,  0.3481],\n",
       "        ...,\n",
       "        [ 0.1208,  0.4462,  0.2889, -0.3228,  0.2618],\n",
       "        [ 0.2538,  0.5439,  0.2563, -0.4772,  0.2297],\n",
       "        [ 0.2143,  0.4393,  0.3474, -0.3684,  0.2787]],\n",
       "       grad_fn=<SqueezeBackward0>)"
      ]
     },
     "execution_count": 75,
     "metadata": {},
     "output_type": "execute_result"
    }
   ],
   "source": [
    "y_hat"
   ]
  },
  {
   "cell_type": "code",
   "execution_count": 78,
   "metadata": {},
   "outputs": [
    {
     "name": "stdout",
     "output_type": "stream",
     "text": [
      "tensor(0.7741, grad_fn=<MeanBackward0>)\n"
     ]
    }
   ],
   "source": [
    "c = nn.MultiLabelSoftMarginLoss()\n",
    "loss = c(y_hat, y)\n",
    "print(loss)"
   ]
  },
  {
   "cell_type": "code",
   "execution_count": null,
   "metadata": {},
   "outputs": [],
   "source": []
  }
 ],
 "metadata": {
  "kernelspec": {
   "display_name": "Python 3",
   "language": "python",
   "name": "python3"
  },
  "language_info": {
   "codemirror_mode": {
    "name": "ipython",
    "version": 3
   },
   "file_extension": ".py",
   "mimetype": "text/x-python",
   "name": "python",
   "nbconvert_exporter": "python",
   "pygments_lexer": "ipython3",
   "version": "3.7.4"
  }
 },
 "nbformat": 4,
 "nbformat_minor": 2
}
